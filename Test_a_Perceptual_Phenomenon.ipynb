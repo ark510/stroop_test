{
 "cells": [
  {
   "cell_type": "markdown",
   "metadata": {},
   "source": [
    "### Analyzing the Stroop Effect\n",
    "Perform the analysis in the space below. Remember to follow [the instructions](https://docs.google.com/document/d/1-OkpZLjG_kX9J6LIQ5IltsqMzVWjh36QpnP2RYpVdPU/pub?embedded=True) and review the [project rubric](https://review.udacity.com/#!/rubrics/71/view) before submitting. Once you've completed the analysis and write-up, download this file as a PDF or HTML file, upload that PDF/HTML into the workspace here (click on the orange Jupyter icon in the upper left then Upload), then use the Submit Project button at the bottom of this page. This will create a zip file containing both this .ipynb doc and the PDF/HTML doc that will be submitted for your project.\n",
    "\n",
    "\n",
    "(1) What is the independent variable? What is the dependent variable?"
   ]
  },
  {
   "cell_type": "markdown",
   "metadata": {},
   "source": [
    "Depending on the order and the format of the Stroop Effect experiment the independent and dependent variables are as such:\n",
    "\n",
    "-- independent variables:  the semantic data of the letters (ie. spelling of a word) and the visual color of that word\n",
    "\n",
    "-- dependent variable:  the speed of sequential responses of the subject to one of several variations of the question /instruction \"call out the visual color of the selected words in the sequence\""
   ]
  },
  {
   "cell_type": "markdown",
   "metadata": {},
   "source": [
    "(2) What is an appropriate set of hypotheses for this task? Specify your null and alternative hypotheses, and clearly define any notation used. Justify your choices."
   ]
  },
  {
   "cell_type": "markdown",
   "metadata": {},
   "source": [
    "null hypothesis $H_0$:  there is no difference in the mean response times $x_Rt$ of each subject across the 2 task conditions - word/color congruency $(con)$ and incongruency $(incon)$.  essentially the diff described below = 0.\n",
    "\n",
    "alternate hypothesis $H_1$:  there is a difference in mean response time $R_t$ of the subject dependent on task condition: word/color congruency or incongruency\n",
    "\n",
    "$$H_0: x_Rt(incon) - x_Rt(con) = 0$$\n",
    "\n",
    "$$H_1: x_Rt(incon) - x_Rt(con) > 0$$\n",
    "\n",
    "because our sample size is less than 30 independent observations $n < 30$ we can not run a z-test in this case to determine probability of the sample mean difference in response times given the null hypothesis $H_0$\n",
    "\n",
    "I expect to perform a one-sided t-test on the sample pairs of observations to infer whether there is enough evidence to reject the null hypothesis $H_0$."
   ]
  },
  {
   "cell_type": "markdown",
   "metadata": {},
   "source": [
    "(3) Report some descriptive statistics regarding this dataset. Include at least one measure of central tendency and at least one measure of variability. The name of the data file is 'stroopdata.csv'."
   ]
  },
  {
   "cell_type": "code",
   "execution_count": 3,
   "metadata": {},
   "outputs": [
    {
     "data": {
      "text/plain": [
       "(24, 2)"
      ]
     },
     "execution_count": 3,
     "metadata": {},
     "output_type": "execute_result"
    }
   ],
   "source": [
    "import pandas as pd\n",
    "import numpy as np\n",
    "\n",
    "df_stroop = pd.read_csv('stroopdata.csv')\n",
    "df_stroop.shape"
   ]
  },
  {
   "cell_type": "code",
   "execution_count": 4,
   "metadata": {},
   "outputs": [
    {
     "data": {
      "text/html": [
       "<div>\n",
       "<style scoped>\n",
       "    .dataframe tbody tr th:only-of-type {\n",
       "        vertical-align: middle;\n",
       "    }\n",
       "\n",
       "    .dataframe tbody tr th {\n",
       "        vertical-align: top;\n",
       "    }\n",
       "\n",
       "    .dataframe thead th {\n",
       "        text-align: right;\n",
       "    }\n",
       "</style>\n",
       "<table border=\"1\" class=\"dataframe\">\n",
       "  <thead>\n",
       "    <tr style=\"text-align: right;\">\n",
       "      <th></th>\n",
       "      <th>Congruent</th>\n",
       "      <th>Incongruent</th>\n",
       "    </tr>\n",
       "  </thead>\n",
       "  <tbody>\n",
       "    <tr>\n",
       "      <th>count</th>\n",
       "      <td>24.000000</td>\n",
       "      <td>24.000000</td>\n",
       "    </tr>\n",
       "    <tr>\n",
       "      <th>mean</th>\n",
       "      <td>14.051125</td>\n",
       "      <td>22.015917</td>\n",
       "    </tr>\n",
       "    <tr>\n",
       "      <th>std</th>\n",
       "      <td>3.559358</td>\n",
       "      <td>4.797057</td>\n",
       "    </tr>\n",
       "    <tr>\n",
       "      <th>min</th>\n",
       "      <td>8.630000</td>\n",
       "      <td>15.687000</td>\n",
       "    </tr>\n",
       "    <tr>\n",
       "      <th>25%</th>\n",
       "      <td>11.895250</td>\n",
       "      <td>18.716750</td>\n",
       "    </tr>\n",
       "    <tr>\n",
       "      <th>50%</th>\n",
       "      <td>14.356500</td>\n",
       "      <td>21.017500</td>\n",
       "    </tr>\n",
       "    <tr>\n",
       "      <th>75%</th>\n",
       "      <td>16.200750</td>\n",
       "      <td>24.051500</td>\n",
       "    </tr>\n",
       "    <tr>\n",
       "      <th>max</th>\n",
       "      <td>22.328000</td>\n",
       "      <td>35.255000</td>\n",
       "    </tr>\n",
       "  </tbody>\n",
       "</table>\n",
       "</div>"
      ],
      "text/plain": [
       "       Congruent  Incongruent\n",
       "count  24.000000    24.000000\n",
       "mean   14.051125    22.015917\n",
       "std     3.559358     4.797057\n",
       "min     8.630000    15.687000\n",
       "25%    11.895250    18.716750\n",
       "50%    14.356500    21.017500\n",
       "75%    16.200750    24.051500\n",
       "max    22.328000    35.255000"
      ]
     },
     "execution_count": 4,
     "metadata": {},
     "output_type": "execute_result"
    }
   ],
   "source": [
    "df_stroop.describe()"
   ]
  },
  {
   "cell_type": "code",
   "execution_count": 5,
   "metadata": {},
   "outputs": [
    {
     "data": {
      "text/plain": [
       "Congruent      14.3565\n",
       "Incongruent    21.0175\n",
       "dtype: float64"
      ]
     },
     "execution_count": 5,
     "metadata": {},
     "output_type": "execute_result"
    }
   ],
   "source": [
    "df_stroop.median()"
   ]
  },
  {
   "cell_type": "markdown",
   "metadata": {},
   "source": [
    "The stroop data is separated into 2 columns, each with 24 unique observations of observation times likely counted in seconds (this would make sense given the length of the experiment lists).  some descriptive statistics of each category:\n",
    "\n",
    "central tendency:<br>\n",
    "-- sample mean `Congruent` series: 14.0511<br>\n",
    "-- sample mean `Incongruent` series: 22.0159<br>\n",
    "<br>\n",
    "-- sample median `Congruent` series: 14.3565<br>\n",
    "-- sample median `Incongruent` series: 21.0175<br>\n",
    "<br>\n",
    "this would indicate that both sample series are fairly normally distributed, with the `Incongruent` series slightly right skewed<br>\n",
    "<br>\n",
    "variability:<br>\n",
    "-- sample standard deviation `Congruent` series: 3.5594<br>\n",
    "-- sample standard deviation `Incongruent` series: 4.7971<br>"
   ]
  },
  {
   "cell_type": "code",
   "execution_count": 6,
   "metadata": {},
   "outputs": [],
   "source": [
    "# here we add a column to the dataframe to include the difference 'diff' of the sample observations and the sample means\n",
    "df_stroop['diff'] = df_stroop['Incongruent'] - df_stroop['Congruent']"
   ]
  },
  {
   "cell_type": "code",
   "execution_count": 7,
   "metadata": {},
   "outputs": [],
   "source": [
    "# observe the mean and std of the diff.  \n",
    "# all are positive int because we are subtracting Congruent from Incongruent response times\n",
    "df_stroop['diff'].mean(), df_stroop['diff'].std()\n",
    "\n",
    "diff_mean = df_stroop['diff'].mean()"
   ]
  },
  {
   "cell_type": "code",
   "execution_count": 8,
   "metadata": {},
   "outputs": [],
   "source": [
    "import math\n",
    "\n",
    "# observe the standard error of the mean diff\n",
    "S = df_stroop['diff'].std()\n",
    "n = df_stroop['diff'].count()\n",
    "\n",
    "SE = S / math.sqrt(n)"
   ]
  },
  {
   "cell_type": "code",
   "execution_count": 9,
   "metadata": {
    "scrolled": true
   },
   "outputs": [
    {
     "data": {
      "text/plain": [
       "0.9930286347783406"
      ]
     },
     "execution_count": 9,
     "metadata": {},
     "output_type": "execute_result"
    }
   ],
   "source": [
    "SE\n",
    "#df_stroop.count()"
   ]
  },
  {
   "cell_type": "markdown",
   "metadata": {},
   "source": [
    "(4) Provide one or two visualizations that show the distribution of the sample data. Write one or two sentences noting what you observe about the plot or plots."
   ]
  },
  {
   "cell_type": "code",
   "execution_count": 19,
   "metadata": {},
   "outputs": [
    {
     "data": {
      "image/png": "[encoded data removed]",
      "text/plain": [
       "<Figure size 432x288 with 1 Axes>"
      ]
     },
     "metadata": {},
     "output_type": "display_data"
    }
   ],
   "source": [
    "import matplotlib.pyplot as plt\n",
    "%matplotlib inline\n",
    "# Build the visualizations here\n",
    "\n",
    "plt.hist(df_stroop['Congruent'], alpha=0.5), plt.hist(df_stroop['Incongruent'], alpha=0.5);\n",
    "plt.axvline(x=df_stroop['Congruent'].mean(), color='red');\n",
    "plt.axvline(x=df_stroop['Incongruent'].mean(), color='red');"
   ]
  },
  {
   "cell_type": "code",
   "execution_count": 25,
   "metadata": {},
   "outputs": [
    {
     "data": {
      "image/png": "[encoded data removed]",
      "text/plain": [
       "<Figure size 432x288 with 1 Axes>"
      ]
     },
     "metadata": {},
     "output_type": "display_data"
    }
   ],
   "source": [
    "plt.hist(df_stroop['diff']);\n",
    "plt.axvline(x=df_stroop['diff'].mean(), color='red');\n",
    "plt.axvline(x=df_stroop['diff'].median(), color='pink');"
   ]
  },
  {
   "cell_type": "markdown",
   "metadata": {},
   "source": [
    "the first plot above shows the distribution of the both the congruent and incongruent observations.  we can plainly see that the distribution for either condition is not nearly-normal around the mean - indicated by a red axis.  the Central Limit Theorem states that when the sample size is small $n < 30$ then the normal approximation is not apparent. \n",
    "\n",
    "the second plot shows the distribution of the differences in the observations around the mean difference. I have also included the median to show that the data are not strongly skewed."
   ]
  },
  {
   "cell_type": "markdown",
   "metadata": {},
   "source": [
    "(5)  Now, perform the statistical test and report your results. What is your confidence level or Type I error associated with your test? What is your conclusion regarding the hypotheses you set up? Did the results match up with your expectations? **Hint:**  Think about what is being measured on each individual, and what statistic best captures how an individual reacts in each environment."
   ]
  },
  {
   "cell_type": "code",
   "execution_count": 10,
   "metadata": {},
   "outputs": [],
   "source": [
    "import scipy.stats as stats\n",
    "\n",
    "# first I will calculate the t-statistic manually\n",
    "t_stat = diff_mean / SE\n",
    "\n",
    "# then I will run the t-test for related sample groups in scipy\n",
    "t_test = stats.ttest_rel(df_stroop['Incongruent'], df_stroop['Congruent'])"
   ]
  },
  {
   "cell_type": "code",
   "execution_count": 12,
   "metadata": {},
   "outputs": [
    {
     "name": "stdout",
     "output_type": "stream",
     "text": [
      "the manually calculated t-statistic is:  8.020706944109957\n",
      "the results of the dependent t-test are as follows:  Ttest_relResult(statistic=8.020706944109957, pvalue=4.103000585711178e-08)\n"
     ]
    }
   ],
   "source": [
    "print(\"the manually calculated t-statistic is: \", t_stat)\n",
    "print(\"the results of the dependent t-test in scipy are as follows: \", t_test)"
   ]
  },
  {
   "cell_type": "markdown",
   "metadata": {},
   "source": [
    "the chosen confidence threshold for this hypothesis test is $0.05$ where the chance of a Type 1 error - where $H_0$ is wrongly rejected is less than 5 percent. this is a fairly standard confidence level across hypothesis testing in inferential statistics.\n",
    "\n",
    "the t-statistic calculated for this test is $8.0207$ and the p-value is a miniscule $0.000000041$. since this is far below the confidence threshold of $0.05$ we roundly reject the null hypothesis.\n",
    "\n",
    "simply put, the chance of observing a sample mean difference in response times of at least as siginficant as $x_Rt(incon - con)$ under the null $H_0$ is incredibly small."
   ]
  },
  {
   "cell_type": "markdown",
   "metadata": {},
   "source": [
    "(6) Optional: What do you think is responsible for the effects observed? Can you think of an alternative or similar task that would result in a similar effect? Some research about the problem will be helpful for thinking about these two questions!"
   ]
  },
  {
   "cell_type": "markdown",
   "metadata": {},
   "source": [
    "--write answer here--"
   ]
  }
 ],
 "metadata": {
  "kernelspec": {
   "display_name": "Python 3",
   "language": "python",
   "name": "python3"
  },
  "language_info": {
   "codemirror_mode": {
    "name": "ipython",
    "version": 3
   },
   "file_extension": ".py",
   "mimetype": "text/x-python",
   "name": "python",
   "nbconvert_exporter": "python",
   "pygments_lexer": "ipython3",
   "version": "3.6.5"
  }
 },
 "nbformat": 4,
 "nbformat_minor": 2
}
